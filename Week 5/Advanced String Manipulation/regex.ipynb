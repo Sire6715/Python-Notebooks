{
 "cells": [
  {
   "cell_type": "code",
   "execution_count": 1,
   "id": "0a48045b",
   "metadata": {},
   "outputs": [
    {
     "name": "stdout",
     "output_type": "stream",
     "text": [
      "Match found: amazing\n",
      "Match starts at position: 13\n"
     ]
    }
   ],
   "source": [
    "import re\n",
    "\n",
    "text = \"Python is an amazing programming language.\"\n",
    "pattern = \"amazing\"\n",
    "\n",
    "match = re.search(pattern, text)\n",
    "\n",
    "if match:\n",
    "     print(\"Match found:\", match.group())\n",
    "     print(\"Match starts at position:\", match.start())\n",
    "else:\n",
    " print(\"No match found.\")\n"
   ]
  },
  {
   "cell_type": "code",
   "execution_count": 2,
   "id": "a7cbf0d5",
   "metadata": {},
   "outputs": [
    {
     "name": "stdout",
     "output_type": "stream",
     "text": [
      "Match found: Hello\n"
     ]
    }
   ],
   "source": [
    "import re\n",
    "pattern = \"Hello\"\n",
    "text = \"Hello, world!\"\n",
    "# Using re.match to find pattern at the start of the text\n",
    "match = re.match(pattern, text)\n",
    "if match:\n",
    " print(\"Match found:\", match.group())\n",
    "else:\n",
    " print(\"No match found.\")\n"
   ]
  },
  {
   "cell_type": "code",
   "execution_count": 3,
   "id": "6d3da5a1",
   "metadata": {},
   "outputs": [
    {
     "name": "stdout",
     "output_type": "stream",
     "text": [
      "['2023-01-01', '2024-02-02']\n",
      "[('2023', '01', '01'), ('2024', '02', '02')]\n"
     ]
    }
   ],
   "source": [
    "import re\n",
    "text = \"The dates are 2023-01-01, 2024-02-02\"\n",
    "# Single capturing group\n",
    "pattern = r\"(\\d{4}-\\d{2}-\\d{2})\"\n",
    "# Multiple capturing groups\n",
    "pattern_multiple = r\"(\\d{4})-(\\d{2})-(\\d{2})\"\n",
    "dates = re.findall(pattern, text)\n",
    "date_parts = re.findall(pattern_multiple, text)\n",
    "print(dates) # Output: ['2023-01-01', '2024-02-02']\n",
    "print(date_parts)\n"
   ]
  },
  {
   "cell_type": "code",
   "execution_count": 7,
   "id": "fa95d30c",
   "metadata": {},
   "outputs": [
    {
     "name": "stdout",
     "output_type": "stream",
     "text": [
      "Match: Spain at Position:(12, 17)\n"
     ]
    }
   ],
   "source": [
    "import re\n",
    "text = \"The rain in Spain stays mainly in the plain.\"\n",
    "pattern = r\"\\bS\\w+\"\n",
    "matches = re.finditer(pattern, text)\n",
    "for match in matches:\n",
    "     print(f\"Match: {match.group()} at Position:{match.span()}\")"
   ]
  },
  {
   "cell_type": "code",
   "execution_count": 9,
   "id": "ab76aef3",
   "metadata": {},
   "outputs": [
    {
     "name": "stdout",
     "output_type": "stream",
     "text": [
      "I love Java. Java is great for scripting.Java can be used for data analysis.\n"
     ]
    }
   ],
   "source": [
    "import re\n",
    "\n",
    "text = \"I love Python. Python is great for scripting.Python can be used for data analysis.\"\n",
    "pattern = \"Python\"\n",
    "replacement = \"Java\"\n",
    "\n",
    "result = re.sub(pattern, replacement, text)\n",
    "print(result)"
   ]
  },
  {
   "cell_type": "code",
   "execution_count": 10,
   "id": "9583aebb",
   "metadata": {},
   "outputs": [
    {
     "name": "stdout",
     "output_type": "stream",
     "text": [
      "['Words', 'separated', 'by', 'commas (and some spaces)']\n"
     ]
    },
    {
     "name": "stderr",
     "output_type": "stream",
     "text": [
      "<>:3: SyntaxWarning: invalid escape sequence '\\s'\n",
      "<>:3: SyntaxWarning: invalid escape sequence '\\s'\n",
      "C:\\Users\\hp\\AppData\\Local\\Temp\\ipykernel_13240\\2113745002.py:3: SyntaxWarning: invalid escape sequence '\\s'\n",
      "  pattern = \",\\s*\" # Comma followed by zero or more spaces\n"
     ]
    }
   ],
   "source": [
    "import re\n",
    "text = \"Words, separated, by, commas (and some spaces)\"\n",
    "pattern = \",\\s*\" # Comma followed by zero or more spaces\n",
    "result = re.split(pattern, text)\n",
    "print(result)"
   ]
  },
  {
   "cell_type": "code",
   "execution_count": 11,
   "id": "a0ff57b6",
   "metadata": {},
   "outputs": [
    {
     "name": "stdout",
     "output_type": "stream",
     "text": [
      "No match found\n"
     ]
    }
   ],
   "source": [
    "import re\n",
    "# Compile the regex pattern for a simple word match\n",
    "pattern = re.compile(r'hello')\n",
    "# Sample text\n",
    "text = \"Hello, world!\"\n",
    "# Using the compiled pattern to search in the text\n",
    "match = pattern.search(text)\n",
    "if match:\n",
    " print(\"Match found\")\n",
    "else:\n",
    " print(\"No match found\")\n"
   ]
  },
  {
   "cell_type": "code",
   "execution_count": null,
   "id": "a64fd683",
   "metadata": {},
   "outputs": [],
   "source": []
  }
 ],
 "metadata": {
  "kernelspec": {
   "display_name": "base",
   "language": "python",
   "name": "python3"
  },
  "language_info": {
   "codemirror_mode": {
    "name": "ipython",
    "version": 3
   },
   "file_extension": ".py",
   "mimetype": "text/x-python",
   "name": "python",
   "nbconvert_exporter": "python",
   "pygments_lexer": "ipython3",
   "version": "3.12.7"
  }
 },
 "nbformat": 4,
 "nbformat_minor": 5
}
